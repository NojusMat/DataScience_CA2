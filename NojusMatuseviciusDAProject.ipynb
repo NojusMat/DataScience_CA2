{
 "cells": [
  {
   "cell_type": "markdown",
   "metadata": {},
   "source": [
    "# Library Import"
   ]
  },
  {
   "cell_type": "code",
   "execution_count": 146,
   "metadata": {},
   "outputs": [],
   "source": [
    "import numpy as np\n",
    "import seaborn as sns\n",
    "import matplotlib.pyplot as plt\n",
    "#To set figure size\n",
    "from matplotlib.pyplot import figure"
   ]
  },
  {
   "cell_type": "markdown",
   "metadata": {},
   "source": [
    "# 1 - Business Understanding:"
   ]
  },
  {
   "cell_type": "markdown",
   "metadata": {},
   "source": [
    "# 2 - Data Mining:\n"
   ]
  },
  {
   "cell_type": "code",
   "execution_count": null,
   "metadata": {},
   "outputs": [],
   "source": [
    "import pandas as pd\n",
    "data= pd.read_csv(\"outputDataMining.csv\")"
   ]
  },
  {
   "cell_type": "markdown",
   "metadata": {},
   "source": [
    "# 3 - Data Cleaning:"
   ]
  },
  {
   "cell_type": "code",
   "execution_count": 148,
   "metadata": {},
   "outputs": [
    {
     "name": "stdout",
     "output_type": "stream",
     "text": [
      "     duel_outcome duel_type pass_length pass_outcome  period shot_first_time  \\\n",
      "6             N/A       N/A    7.283543     Complete       1             N/A   \n",
      "7             N/A       N/A    3.911521     Complete       1             N/A   \n",
      "8             N/A       N/A   30.093521     Complete       1             N/A   \n",
      "9             N/A       N/A   35.162766     Complete       1             N/A   \n",
      "10            N/A       N/A   29.614355     Complete       1             N/A   \n",
      "...           ...       ...         ...          ...     ...             ...   \n",
      "2373          N/A       N/A         N/A          N/A       2           FALSE   \n",
      "2374          N/A       N/A         N/A          N/A       2            True   \n",
      "2375          N/A       N/A         N/A          N/A       2            True   \n",
      "2376          N/A       N/A         N/A          N/A       2           FALSE   \n",
      "2377          N/A       N/A         N/A          N/A       2           FALSE   \n",
      "\n",
      "     shot_outcome shot_technique     timestamp  \n",
      "6             N/A            N/A  00:00:00.500  \n",
      "7             N/A            N/A  00:00:00.986  \n",
      "8             N/A            N/A  00:00:04.078  \n",
      "9             N/A            N/A  00:00:07.214  \n",
      "10            N/A            N/A  00:00:13.855  \n",
      "...           ...            ...           ...  \n",
      "2373      Wayward         Normal  00:31:55.679  \n",
      "2374      Blocked    Half Volley  00:32:52.736  \n",
      "2375      Wayward    Half Volley  00:43:43.877  \n",
      "2376      Wayward         Normal  00:44:21.672  \n",
      "2377         Goal         Normal  00:47:39.261  \n",
      "\n",
      "[1023 rows x 9 columns]\n"
     ]
    },
    {
     "name": "stderr",
     "output_type": "stream",
     "text": [
      "C:\\Users\\wwwno\\AppData\\Local\\Temp\\ipykernel_12368\\2365725264.py:90: FutureWarning: Setting an item of incompatible dtype is deprecated and will raise in a future error of pandas. Value 'N/A' has dtype incompatible with float64, please explicitly cast to a compatible dtype first.\n",
      "  data.fillna(\"N/A\", inplace = True)\n"
     ]
    }
   ],
   "source": [
    "# Drop the columns that are not needed\n",
    "\n",
    "data.drop(['bad_behaviour_card'], axis=1, inplace=True)\n",
    "data.drop(['ball_receipt_outcome'], axis=1, inplace=True)\n",
    "data.drop(['ball_recovery_recovery_failure'], axis=1, inplace=True)\n",
    "data.drop(['carry_end_location'], axis=1, inplace=True)\n",
    "data.drop(['clearance_body_part'], axis=1, inplace=True)\n",
    "data.drop(['clearance_head'], axis=1, inplace=True)\n",
    "data.drop(['clearance_left_foot'], axis=1, inplace=True)\n",
    "data.drop(['clearance_right_foot'], axis=1, inplace=True)\n",
    "data.drop(['counterpress'], axis=1, inplace=True)\n",
    "data.drop(['dribble_no_touch'], axis=1, inplace=True)\n",
    "data.drop(['foul_committed_advantage'], axis=1, inplace=True)\n",
    "data.drop(['foul_committed_card'], axis=1, inplace=True)\n",
    "data.drop(['foul_committed_type'], axis=1, inplace=True)\n",
    "data.drop(['foul_won_advantage'], axis=1, inplace=True)\n",
    "data.drop(['goalkeeper_body_part'], axis=1, inplace=True)\n",
    "data.drop(['goalkeeper_end_location'], axis=1, inplace=True)\n",
    "data.drop(['location'], axis=1, inplace=True)\n",
    "data.drop(['match_id'], axis=1, inplace=True)\n",
    "data.drop(['id'], axis=1, inplace=True)\n",
    "data.drop(['index'], axis=1, inplace=True)\n",
    "data.drop(['miscontrol_aerial_won'], axis=1, inplace=True)\n",
    "data.drop(['off_camera'], axis=1, inplace=True)\n",
    "data.drop(['out'], axis=1, inplace=True)\n",
    "data.drop(['pass_angle'], axis=1, inplace=True)\n",
    "data.drop(['pass_assisted_shot_id'], axis=1, inplace=True)\n",
    "data.drop(['pass_end_location'], axis=1, inplace=True)\n",
    "data.drop(['pass_cut_back'], axis=1, inplace=True)\n",
    "data.drop(['pass_goal_assist'], axis=1, inplace=True)\n",
    "data.drop(['possession_team_id'], axis=1, inplace=True)\n",
    "data.drop(['pass_inswinging'], axis=1, inplace=True)\n",
    "data.drop(['pass_miscommunication'], axis=1, inplace=True)\n",
    "data.drop(['pass_shot_assist'], axis=1, inplace=True)\n",
    "data.drop(['pass_no_touch'], axis=1, inplace=True)\n",
    "data.drop(['pass_outswinging'], axis=1, inplace=True)\n",
    "data.drop(['pass_recipient'], axis=1, inplace=True)\n",
    "data.drop(['player_id'], axis=1, inplace=True)\n",
    "data.drop(['pass_straight'], axis=1, inplace=True)\n",
    "data.drop(['pass_switch'], axis=1, inplace=True)\n",
    "data.drop(['pass_through_ball'], axis=1, inplace=True)\n",
    "data.drop(['player'], axis=1, inplace=True)\n",
    "data.drop(['related_events'], axis=1, inplace=True)\n",
    "data.drop(['shot_aerial_won'], axis=1, inplace=True)\n",
    "data.drop(['shot_end_location'], axis=1, inplace=True)\n",
    "data.drop(['shot_freeze_frame'], axis=1, inplace=True)\n",
    "data.drop(['shot_key_pass_id'], axis=1, inplace=True)\n",
    "data.drop(['shot_statsbomb_xg'], axis=1, inplace=True)\n",
    "data.drop(['shot_type'], axis=1, inplace=True)\n",
    "data.drop(['substitution_outcome'], axis=1, inplace=True)\n",
    "data.drop(['substitution_replacement'], axis=1, inplace=True)\n",
    "data.drop(['tactics'], axis=1, inplace=True)\n",
    "data.drop(['team'], axis=1, inplace=True)\n",
    "data.drop(['team_id'], axis=1, inplace=True)\n",
    "data.drop(['type'], axis=1, inplace=True)\n",
    "data.drop(['under_pressure'], axis=1, inplace=True)\n",
    "data.drop(['block_deflection'], axis=1, inplace=True)\n",
    "data.drop(['clearance_aerial_won'], axis=1, inplace=True)\n",
    "data.drop(['dribble_nutmeg'], axis=1, inplace=True)\n",
    "data.drop(['dribble_outcome'], axis=1, inplace=True)\n",
    "data.drop(['foul_won_defensive'], axis=1, inplace=True)\n",
    "data.drop(['goalkeeper_position'], axis=1, inplace=True)\n",
    "data.drop(['interception_outcome'], axis=1, inplace=True)\n",
    "data.drop(['pass_aerial_won'], axis=1, inplace=True)\n",
    "data.drop(['pass_cross'], axis=1, inplace=True)\n",
    "data.drop(['pass_deflected'], axis=1, inplace=True)\n",
    "data.drop(['pass_height'], axis=1, inplace=True)\n",
    "data.drop(['pass_type'], axis=1, inplace=True)\n",
    "data.drop(['second'], axis=1, inplace=True)\n",
    "data.drop(['minute'], axis=1, inplace=True)\n",
    "data.drop(['duration'], axis=1, inplace=True)\n",
    "data.drop(['goalkeeper_outcome'], axis=1, inplace=True)\n",
    "data.drop(['goalkeeper_technique'], axis=1, inplace=True)\n",
    "data.drop(['goalkeeper_type'], axis=1, inplace=True)\n",
    "data.drop(['pass_body_part'], axis=1, inplace=True)\n",
    "data.drop(['play_pattern'], axis=1, inplace=True)\n",
    "data.drop(['position'], axis=1, inplace=True)\n",
    "data.drop(['possession_team'], axis=1, inplace=True)\n",
    "data.drop(['shot_body_part'], axis=1, inplace=True)\n",
    "data.drop(['shot_deflected'], axis=1, inplace=True)\n",
    "data.drop(['possession'], axis=1, inplace=True)\n",
    "data.drop(['pass_technique'], axis=1, inplace=True)\n",
    "\n",
    "# Drop the rows where all elements are missing.\n",
    "columns_to_check =['duel_outcome','duel_type','pass_length','pass_outcome','shot_first_time','shot_outcome','shot_technique']\n",
    "data.dropna(subset=columns_to_check, how='all', inplace=True)\n",
    "\n",
    "# if pass length is not null and pass outcome is null, then pass outcome is complete\n",
    "data.loc[data['pass_length'].notnull() & data['pass_outcome'].isnull(),'pass_outcome'] = 'Complete'\n",
    "\n",
    "# if duel type is not null and duel outcome is null, then duel outcome is lost\n",
    "data.loc[data['duel_type'].notnull() & data['duel_outcome'].isnull(),'duel_outcome'] = 'Lost'\n",
    "\n",
    "# if shot outcome is not null and shot first time is null, then shot first time is false\n",
    "data.loc[data['shot_outcome'].notnull() & data['shot_first_time'].isnull(),'shot_first_time'] = 'FALSE'\n",
    "\n",
    "# Fill the missing values with the value N/A\n",
    "data.fillna(\"N/A\", inplace = True)\n",
    "\n",
    "# Convert the pass length to float and round to 1 decimal place\n",
    "data['pass_length'] = data ['pass_length'].round(1)\n",
    "\n",
    "\n",
    "#drop the records with response missing in data.\n",
    "data = data.drop(data[data.response.isnull()].index) \n",
    "# Checking the missing values in the dataset.\n",
    "print(data.isnull().sum())\n",
    "\n",
    "print(data)\n",
    "data.to_csv('test4 .csv', index=False)  # save as csv file"
   ]
  },
  {
   "cell_type": "markdown",
   "metadata": {},
   "source": [
    "# 4 - Data Exploration:"
   ]
  },
  {
   "cell_type": "markdown",
   "metadata": {},
   "source": [
    "# 5 - Feature Engineering:"
   ]
  },
  {
   "cell_type": "markdown",
   "metadata": {},
   "source": [
    "# 6 – Predictive Modelling:"
   ]
  },
  {
   "cell_type": "markdown",
   "metadata": {},
   "source": [
    "# 7 – Findings:"
   ]
  }
 ],
 "metadata": {
  "kernelspec": {
   "display_name": "Python 3",
   "language": "python",
   "name": "python3"
  },
  "language_info": {
   "codemirror_mode": {
    "name": "ipython",
    "version": 3
   },
   "file_extension": ".py",
   "mimetype": "text/x-python",
   "name": "python",
   "nbconvert_exporter": "python",
   "pygments_lexer": "ipython3",
   "version": "3.11.6"
  }
 },
 "nbformat": 4,
 "nbformat_minor": 2
}
