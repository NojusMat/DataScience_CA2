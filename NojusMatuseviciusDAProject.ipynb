{
 "cells": [
  {
   "cell_type": "markdown",
   "metadata": {},
   "source": [
    "# Library Import"
   ]
  },
  {
   "cell_type": "code",
   "execution_count": 405,
   "metadata": {},
   "outputs": [],
   "source": [
    "import numpy as np\n",
    "import seaborn as sns\n",
    "import matplotlib.pyplot as plt\n",
    "#To set figure size\n",
    "from matplotlib.pyplot import figure"
   ]
  },
  {
   "cell_type": "markdown",
   "metadata": {},
   "source": [
    "# 1 - Business Understanding\n",
    "### Scenario:\n",
    "Luis Xaviar the team analyst of the football team of Eibar FC recently was asked by the manager to review the performance of their last match\n",
    "the manager wanted to know how he could improve his style of play in three areas of the game, passing, shooting and defending.\n",
    "this would help improve not only his teams performance but other teams might find it useful as well to improve their own performance.\n",
    "Using this football data Luis focused on these areas and came up with the following problems\n",
    "\n",
    "## 1.Passing:\n",
    "### You would look at this data to try and improve the build up of play and the potential of successful counter attacking:  \n",
    "1.Analyzing the correlation between distance of a pass with the success rate.\n",
    "\n",
    "2.Investigating the effect of fatigue on a players passing. \n",
    "\n",
    "3.Investigating the likelihood of a pass being inaccurate in the second half \n",
    "\n",
    "## 2.Defense\n",
    "### You would look at this data to try and strengthen defense to reduce amount of goals scored:\n",
    "4.Analyzing what type of tackling has the highest success rate.\n",
    "\n",
    "5.Investigating which team is more likely to fail a tackle and the type of tackle attempted.\n",
    "\n",
    "## 3.Attacking\n",
    "### Look at this data to try and maximize your goal scoring efficiency and increase the likelihood of scoring a goal:\n",
    "6.Analyzing the influence of a player shooting from a first touch on the probability of it leading to a goal.\n",
    "\n",
    "7.Investigating the volume of shots attempted between the first and second half.\n",
    "\n",
    "8.Analyzing how accurate players are with their heads to hit a shot on target.\n",
    "\n",
    "9.Analyzing the probability of a player trying to take a regular shot on goal near the end of the first and second halves(+/- 5 minutes before the half ends) \n"
   ]
  },
  {
   "cell_type": "markdown",
   "metadata": {},
   "source": [
    "# 2 - Data Mining:\n"
   ]
  },
  {
   "cell_type": "markdown",
   "metadata": {},
   "source": [
    "## Library Imports"
   ]
  },
  {
   "cell_type": "code",
   "execution_count": 406,
   "metadata": {},
   "outputs": [],
   "source": [
    "import numpy as np\n",
    "import seaborn as sns\n",
    "import matplotlib.pyplot as plt\n",
    "#To set figure size\n",
    "from matplotlib.pyplot import figure"
   ]
  },
  {
   "cell_type": "markdown",
   "metadata": {},
   "source": [
    "## Data Import"
   ]
  },
  {
   "cell_type": "code",
   "execution_count": 407,
   "metadata": {},
   "outputs": [],
   "source": [
    "import pandas as pd\n",
    "data= pd.read_csv(\"outputDataMining.csv\")"
   ]
  },
  {
   "cell_type": "markdown",
   "metadata": {},
   "source": [
    "# 3 - Data Cleaning:"
   ]
  },
  {
   "cell_type": "code",
   "execution_count": 408,
   "metadata": {},
   "outputs": [],
   "source": [
    "# Drop the columns that are not needed\n",
    "\n",
    "data.drop(['bad_behaviour_card'], axis=1, inplace=True)\n",
    "data.drop(['ball_receipt_outcome'], axis=1, inplace=True)\n",
    "data.drop(['ball_recovery_recovery_failure'], axis=1, inplace=True)\n",
    "data.drop(['carry_end_location'], axis=1, inplace=True)\n",
    "data.drop(['clearance_body_part'], axis=1, inplace=True)\n",
    "data.drop(['clearance_head'], axis=1, inplace=True)\n",
    "data.drop(['clearance_left_foot'], axis=1, inplace=True)\n",
    "data.drop(['clearance_right_foot'], axis=1, inplace=True)\n",
    "data.drop(['counterpress'], axis=1, inplace=True)\n",
    "data.drop(['dribble_no_touch'], axis=1, inplace=True)\n",
    "data.drop(['foul_committed_advantage'], axis=1, inplace=True)\n",
    "data.drop(['foul_committed_card'], axis=1, inplace=True)\n",
    "data.drop(['foul_committed_type'], axis=1, inplace=True)\n",
    "data.drop(['foul_won_advantage'], axis=1, inplace=True)\n",
    "data.drop(['goalkeeper_body_part'], axis=1, inplace=True)\n",
    "data.drop(['goalkeeper_end_location'], axis=1, inplace=True)\n",
    "data.drop(['location'], axis=1, inplace=True)\n",
    "data.drop(['match_id'], axis=1, inplace=True)\n",
    "data.drop(['id'], axis=1, inplace=True)\n",
    "data.drop(['index'], axis=1, inplace=True)\n",
    "data.drop(['miscontrol_aerial_won'], axis=1, inplace=True)\n",
    "data.drop(['off_camera'], axis=1, inplace=True)\n",
    "data.drop(['out'], axis=1, inplace=True)\n",
    "data.drop(['pass_angle'], axis=1, inplace=True)\n",
    "data.drop(['pass_assisted_shot_id'], axis=1, inplace=True)\n",
    "data.drop(['pass_end_location'], axis=1, inplace=True)\n",
    "data.drop(['pass_cut_back'], axis=1, inplace=True)\n",
    "data.drop(['pass_goal_assist'], axis=1, inplace=True)\n",
    "data.drop(['possession_team_id'], axis=1, inplace=True)\n",
    "data.drop(['pass_inswinging'], axis=1, inplace=True)\n",
    "data.drop(['pass_miscommunication'], axis=1, inplace=True)\n",
    "data.drop(['pass_shot_assist'], axis=1, inplace=True)\n",
    "data.drop(['pass_no_touch'], axis=1, inplace=True)\n",
    "data.drop(['pass_outswinging'], axis=1, inplace=True)\n",
    "data.drop(['pass_recipient'], axis=1, inplace=True)\n",
    "data.drop(['player_id'], axis=1, inplace=True)\n",
    "data.drop(['pass_straight'], axis=1, inplace=True)\n",
    "data.drop(['pass_switch'], axis=1, inplace=True)\n",
    "data.drop(['pass_through_ball'], axis=1, inplace=True)\n",
    "data.drop(['player'], axis=1, inplace=True)\n",
    "data.drop(['related_events'], axis=1, inplace=True)\n",
    "data.drop(['shot_aerial_won'], axis=1, inplace=True)\n",
    "data.drop(['shot_end_location'], axis=1, inplace=True)\n",
    "data.drop(['shot_freeze_frame'], axis=1, inplace=True)\n",
    "data.drop(['shot_key_pass_id'], axis=1, inplace=True)\n",
    "data.drop(['shot_statsbomb_xg'], axis=1, inplace=True)\n",
    "data.drop(['shot_type'], axis=1, inplace=True)\n",
    "data.drop(['substitution_outcome'], axis=1, inplace=True)\n",
    "data.drop(['substitution_replacement'], axis=1, inplace=True)\n",
    "data.drop(['tactics'], axis=1, inplace=True)\n",
    "data.drop(['timestamp'], axis=1, inplace=True)\n",
    "data.drop(['team_id'], axis=1, inplace=True)\n",
    "data.drop(['type'], axis=1, inplace=True)\n",
    "data.drop(['under_pressure'], axis=1, inplace=True)\n",
    "data.drop(['block_deflection'], axis=1, inplace=True)\n",
    "data.drop(['clearance_aerial_won'], axis=1, inplace=True)\n",
    "data.drop(['dribble_nutmeg'], axis=1, inplace=True)\n",
    "data.drop(['dribble_outcome'], axis=1, inplace=True)\n",
    "data.drop(['foul_won_defensive'], axis=1, inplace=True)\n",
    "data.drop(['goalkeeper_position'], axis=1, inplace=True)\n",
    "data.drop(['interception_outcome'], axis=1, inplace=True)\n",
    "data.drop(['pass_aerial_won'], axis=1, inplace=True)\n",
    "data.drop(['pass_cross'], axis=1, inplace=True)\n",
    "data.drop(['pass_deflected'], axis=1, inplace=True)\n",
    "data.drop(['pass_height'], axis=1, inplace=True)\n",
    "data.drop(['pass_type'], axis=1, inplace=True)\n",
    "#data.drop(['second'], axis=1, inplace=True)\n",
    "#data.drop(['minute'], axis=1, inplace=True)\n",
    "data.drop(['duration'], axis=1, inplace=True)\n",
    "data.drop(['goalkeeper_outcome'], axis=1, inplace=True)\n",
    "data.drop(['goalkeeper_technique'], axis=1, inplace=True)\n",
    "data.drop(['goalkeeper_type'], axis=1, inplace=True)\n",
    "data.drop(['pass_body_part'], axis=1, inplace=True)\n",
    "data.drop(['play_pattern'], axis=1, inplace=True)\n",
    "data.drop(['position'], axis=1, inplace=True)\n",
    "data.drop(['possession_team'], axis=1, inplace=True)\n",
    "#data.drop(['shot_body_part'], axis=1, inplace=True)\n",
    "data.drop(['shot_deflected'], axis=1, inplace=True)\n",
    "data.drop(['possession'], axis=1, inplace=True)\n",
    "data.drop(['pass_technique'], axis=1, inplace=True)"
   ]
  },
  {
   "cell_type": "markdown",
   "metadata": {},
   "source": [
    "## Missing Values"
   ]
  },
  {
   "cell_type": "code",
   "execution_count": 409,
   "metadata": {},
   "outputs": [
    {
     "name": "stdout",
     "output_type": "stream",
     "text": [
      "duel_outcome         0\n",
      "duel_type            0\n",
      "minute               0\n",
      "pass_length        113\n",
      "pass_outcome         0\n",
      "period               0\n",
      "second               0\n",
      "shot_body_part       0\n",
      "shot_first_time      0\n",
      "shot_outcome         0\n",
      "shot_technique       0\n",
      "team                 0\n",
      "dtype: int64\n",
      "     duel_outcome duel_type  minute  pass_length pass_outcome  period  second  \\\n",
      "6             N/A       N/A       0          7.3     Complete       1       0   \n",
      "7             N/A       N/A       0          3.9     Complete       1       0   \n",
      "8             N/A       N/A       0         30.1     Complete       1       4   \n",
      "9             N/A       N/A       0         35.2     Complete       1       7   \n",
      "10            N/A       N/A       0         29.6     Complete       1      13   \n",
      "...           ...       ...     ...          ...          ...     ...     ...   \n",
      "2373          N/A       N/A      76          NaN          N/A       2      55   \n",
      "2374          N/A       N/A      77          NaN          N/A       2      52   \n",
      "2375          N/A       N/A      88          NaN          N/A       2      43   \n",
      "2376          N/A       N/A      89          NaN          N/A       2      21   \n",
      "2377          N/A       N/A      92          NaN          N/A       2      39   \n",
      "\n",
      "     shot_body_part shot_first_time shot_outcome shot_technique        team  \n",
      "6               N/A             N/A          N/A            N/A       Eibar  \n",
      "7               N/A             N/A          N/A            N/A       Eibar  \n",
      "8               N/A             N/A          N/A            N/A       Eibar  \n",
      "9               N/A             N/A          N/A            N/A       Eibar  \n",
      "10              N/A             N/A          N/A            N/A       Eibar  \n",
      "...             ...             ...          ...            ...         ...  \n",
      "2373           Head           FALSE      Wayward         Normal       Eibar  \n",
      "2374     Right Foot            True      Blocked    Half Volley       Eibar  \n",
      "2375     Right Foot            True      Wayward    Half Volley  Levante UD  \n",
      "2376           Head           FALSE      Wayward         Normal  Levante UD  \n",
      "2377           Head           FALSE         Goal         Normal  Levante UD  \n",
      "\n",
      "[1023 rows x 12 columns]\n"
     ]
    },
    {
     "name": "stderr",
     "output_type": "stream",
     "text": [
      "C:\\Users\\wwwno\\AppData\\Local\\Temp\\ipykernel_12368\\3206994441.py:15: FutureWarning: Setting an item of incompatible dtype is deprecated and will raise in a future error of pandas. Value 'N/A' has dtype incompatible with float64, please explicitly cast to a compatible dtype first.\n",
      "  data.fillna(\"N/A\", inplace = True)\n"
     ]
    }
   ],
   "source": [
    "# Drop the rows where all elements are missing.\n",
    "columns_to_check =['duel_outcome','duel_type','pass_length','pass_outcome','shot_first_time','shot_outcome','shot_technique']\n",
    "data.dropna(subset=columns_to_check, how='all', inplace=True)\n",
    "\n",
    "# if pass length is not null and pass outcome is null, then pass outcome is complete\n",
    "data.loc[data['pass_length'].notnull() & data['pass_outcome'].isnull(),'pass_outcome'] = 'Complete'\n",
    "\n",
    "# if duel type is not null and duel outcome is null, then duel outcome is lost\n",
    "data.loc[data['duel_type'].notnull() & data['duel_outcome'].isnull(),'duel_outcome'] = 'Lost'\n",
    "\n",
    "# if shot outcome is not null and shot first time is null, then shot first time is false\n",
    "data.loc[data['shot_outcome'].notnull() & data['shot_first_time'].isnull(),'shot_first_time'] = 'FALSE'\n",
    "\n",
    "# Fill the missing values with the value N/A\n",
    "data.fillna(\"N/A\", inplace = True)\n",
    "\n",
    "# Convert the pass length to float and round to 1 decimal place\n",
    "data['pass_length'] = pd.to_numeric(data['pass_length'], errors='coerce')\n",
    "data['pass_length'] = data ['pass_length'].round(1)\n",
    "\n",
    "\n",
    "# Convert the shot first time to float\n",
    "data['shot_first_time'] = data['shot_first_time'].astype(str)\n",
    "\n",
    "# Checking the missing values in the dataset.\n",
    "print(data.isnull().sum())\n",
    "\n",
    "print(data)\n",
    "#data.to_csv('data.csv', index=False)  # save as csv file"
   ]
  },
  {
   "cell_type": "markdown",
   "metadata": {},
   "source": [
    "# 4 - Data Exploration:"
   ]
  },
  {
   "cell_type": "markdown",
   "metadata": {},
   "source": [
    "## Univaraite Analysis"
   ]
  },
  {
   "cell_type": "markdown",
   "metadata": {},
   "source": [
    "### Categorical "
   ]
  },
  {
   "cell_type": "code",
   "execution_count": 410,
   "metadata": {},
   "outputs": [
    {
     "name": "stdout",
     "output_type": "stream",
     "text": [
      "['N/A' 'Lost' 'Success In Play' 'Lost Out' 'Won' 'Lost In Play']\n",
      "['N/A' 'Aerial Lost' 'Tackle']\n",
      "['Complete' 'Out' 'Incomplete' 'Unknown' 'Pass Offside' 'Injury Clearance'\n",
      " 'N/A']\n",
      "['N/A' 'Head' 'Right Foot' 'Left Foot']\n",
      "['N/A' 'FALSE' 'True']\n",
      "['N/A' 'Off T' 'Saved' 'Blocked' 'Goal' 'Post' 'Wayward']\n",
      "['N/A' 'Normal' 'Half Volley' 'Volley']\n",
      "['Eibar' 'Levante UD']\n"
     ]
    },
    {
     "data": {
      "image/png": "[encoded data removed]",
      "text/plain": [
       "<Figure size 640x480 with 1 Axes>"
      ]
     },
     "metadata": {},
     "output_type": "display_data"
    },
    {
     "data": {
      "image/png": "[encoded data removed]",
      "text/plain": [
       "<Figure size 640x480 with 1 Axes>"
      ]
     },
     "metadata": {},
     "output_type": "display_data"
    },
    {
     "data": {
      "image/png": "[encoded data removed]",
      "text/plain": [
       "<Figure size 480x480 with 1 Axes>"
      ]
     },
     "metadata": {},
     "output_type": "display_data"
    }
   ],
   "source": [
    "# Univariate for categorical variables such as duel outcome, duel type, pass outcome, shot body part, shot first time, shot outcome, shot technique, team\n",
    "print(data.duel_outcome.unique())\n",
    "print(data.duel_type.unique())\n",
    "print(data.pass_outcome.unique())\n",
    "print(data.shot_body_part.unique())\n",
    "print(data.shot_first_time.unique())\n",
    "print(data.shot_outcome.unique())\n",
    "print(data.shot_technique.unique())\n",
    "print(data.team.unique())\n",
    "\n",
    "#Calculate the number of each duel outcome status \n",
    "numberOfDuelOutcome = data.duel_outcome.value_counts() #Gives a panda series\n",
    "\n",
    "#Filtering the N/A out\n",
    "filtered_DuelOutcome = data[data['duel_outcome'] != 'N/A']\n",
    "# Plot bar char with pandas plot method \n",
    "filtered_DuelOutcome['duel_outcome'].value_counts().plot.bar()#Gives a panda series\n",
    "plt.title(\"Dueling Outcome Total\")\n",
    "plt.ylabel(\"Number of Duels\")\n",
    "plt.xlabel(\"Result of Duel\")\n",
    "plt.show()\n",
    "\n",
    "# Let's calculate the percentage of each duel type propability.\n",
    "filtered_DuelOutcome1 = filtered_DuelOutcome['duel_outcome'].value_counts(normalize=True)*100\n",
    "filtered_DuelOutcome1.plot.bar()\n",
    "plt.title(\"Duel Outcome Probability\")\n",
    "plt.xlabel(\"Result of Duel\")\n",
    "plt.ylabel(\"% of Duels\")\n",
    "plt.show()\n",
    "\n",
    "#OR maybe use a pie chart to explore the education data \n",
    "#First calculate the percentage of each education category.\n",
    "figure(num=None, figsize=(6, 6), dpi=80, facecolor='w', edgecolor='k')\n",
    "filtered_DuelOutcome2 = filtered_DuelOutcome['duel_outcome'].value_counts(normalize=True)\n",
    "filtered_DuelOutcome2.plot.pie()\n",
    "plt.title(\"Edcuation of Customers\", size=20)\n",
    "plt.ylabel(\"\")\n",
    "plt.show()\n"
   ]
  },
  {
   "cell_type": "markdown",
   "metadata": {},
   "source": [
    "## Numerical Variables"
   ]
  },
  {
   "cell_type": "code",
   "execution_count": 411,
   "metadata": {},
   "outputs": [
    {
     "name": "stdout",
     "output_type": "stream",
     "text": [
      "            minute  pass_length       period       second\n",
      "count  1023.000000   910.000000  1023.000000  1023.000000\n",
      "mean     46.312805    23.532308     1.500489    29.707722\n",
      "std      25.925829    15.910845     0.500244    16.839510\n",
      "min       0.000000     0.000000     1.000000     0.000000\n",
      "25%      25.000000    12.125000     1.000000    16.000000\n",
      "50%      45.000000    18.850000     2.000000    30.000000\n",
      "75%      68.000000    30.350000     2.000000    44.000000\n",
      "max      93.000000   101.400000     2.000000    59.000000\n"
     ]
    }
   ],
   "source": [
    "summaryNumerical = data.describe()\n",
    "print(summaryNumerical)\n",
    "\n"
   ]
  },
  {
   "cell_type": "markdown",
   "metadata": {},
   "source": [
    "## Categorical Variables "
   ]
  },
  {
   "cell_type": "code",
   "execution_count": 412,
   "metadata": {},
   "outputs": [
    {
     "name": "stdout",
     "output_type": "stream",
     "text": [
      "['Duel Outcome:N/A' 'Duel Outcome:Lost' 'Duel Outcome:Success In Play'\n",
      " 'Duel Outcome:Lost Out' 'Duel Outcome:Won' 'Duel Outcome:Lost In Play']\n",
      "['Duel Type:N/A' 'Duel Type:Aerial Lost' 'Duel Type:Tackle']\n",
      "['Pass Outcome:Complete' 'Pass Outcome:Out' 'Pass Outcome:Incomplete'\n",
      " 'Pass Outcome:Unknown' 'Pass Outcome:Pass Offside'\n",
      " 'Pass Outcome:Injury Clearance' 'Pass Outcome:N/A']\n",
      "['Shot Body Part:N/A' 'Shot Body Part:Head' 'Shot Body Part:Right Foot'\n",
      " 'Shot Body Part:Left Foot']\n",
      "['Shot First Time:N/A' 'Shot First Time:FALSE' 'Shot First Time:True']\n",
      "['Shot Outcome:N/A' 'Shot Outcome:Off T' 'Shot Outcome:Saved'\n",
      " 'Shot Outcome:Blocked' 'Shot Outcome:Goal' 'Shot Outcome:Post'\n",
      " 'Shot Outcome:Wayward']\n",
      "['Shot Technique:N/A' 'Shot Technique:Normal' 'Shot Technique:Half Volley'\n",
      " 'Shot Technique:Volley']\n",
      "['Team:Eibar' 'Team:Levante UD']\n"
     ]
    }
   ],
   "source": [
    "print(\"Duel Outcome:\" + data.duel_outcome.unique())\n",
    "print(\"Duel Type:\" + data.duel_type.unique())\n",
    "print(\"Pass Outcome:\" + data.pass_outcome.unique())\n",
    "print(\"Shot Body Part:\" + data.shot_body_part.unique())\n",
    "print(\"Shot First Time:\" + data.shot_first_time.unique())\n",
    "print(\"Shot Outcome:\" + data.shot_outcome.unique())\n",
    "print(\"Shot Technique:\" + data.shot_technique.unique())\n",
    "print(\"Team:\" + data.team.unique())"
   ]
  },
  {
   "cell_type": "markdown",
   "metadata": {},
   "source": [
    "# 5 - Feature Engineering:"
   ]
  },
  {
   "cell_type": "markdown",
   "metadata": {},
   "source": [
    "# 6 – Predictive Modelling:"
   ]
  },
  {
   "cell_type": "markdown",
   "metadata": {},
   "source": [
    "# 7 – Findings:"
   ]
  },
  {
   "cell_type": "markdown",
   "metadata": {},
   "source": [
    "# 8- References"
   ]
  },
  {
   "cell_type": "code",
   "execution_count": 413,
   "metadata": {},
   "outputs": [],
   "source": [
    "#Converting column to float\n",
    "#https://sparkbyexamples.com/pandas/pandas-convert-string-to-float-type-dataframe/#:~:text=Alternatively%2C%20you%20can%20convert%20all,'Discount'%20column%20to%20float.\n",
    "\n",
    "#Panda Filters\n",
    "#https://www.listendata.com/2019/07/how-to-filter-pandas-dataframe.html"
   ]
  }
 ],
 "metadata": {
  "kernelspec": {
   "display_name": "Python 3",
   "language": "python",
   "name": "python3"
  },
  "language_info": {
   "codemirror_mode": {
    "name": "ipython",
    "version": 3
   },
   "file_extension": ".py",
   "mimetype": "text/x-python",
   "name": "python",
   "nbconvert_exporter": "python",
   "pygments_lexer": "ipython3",
   "version": "3.11.6"
  }
 },
 "nbformat": 4,
 "nbformat_minor": 2
}
